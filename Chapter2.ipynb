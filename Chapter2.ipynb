{
 "cells": [
  {
   "cell_type": "markdown",
   "id": "a5ca9b11-8561-4992-9658-d2133b68638f",
   "metadata": {},
   "source": [
    "# Worked Examples and Exercises from Chapter 2 of *Essential Math for Data Science*\n",
    "\n",
    "## Probability!!!"
   ]
  },
  {
   "cell_type": "code",
   "execution_count": 12,
   "id": "72e7327d-67d0-49c5-a679-93fa8c269d0e",
   "metadata": {},
   "outputs": [],
   "source": [
    "# Bayes Therom\n",
    "\n",
    "# what if we want to know the probability that coffee contributes to cancer?\n",
    "\n",
    "p_coffee_drinker = 0.65 # we were told that according to statista.com 65% of people drink coffee, P(coffee), or P(B)\n",
    "p_cancer = 0.005 # we were also told that about 0.5% of people are diagnosed with cancer, i.e., P(cancer) or P(A)\n",
    "p_coffee_drinker_given_cancer = 0.85 # there was a study that found \"85% of cancer patients drink coffee\" ie P(coffee|cancer), or P(B|A)\n",
    "\n",
    "\n",
    "# now we simply combine this into bayes therom"
   ]
  },
  {
   "cell_type": "markdown",
   "id": "7e1e5086-e488-4d38-9f8a-8c3ffeeb3cc8",
   "metadata": {},
   "source": [
    "$P(A|B) = \\frac{P(B|A) * P(A)}{P(B)}$"
   ]
  },
  {
   "cell_type": "code",
   "execution_count": 13,
   "id": "ea84219f-fd0f-4189-b54f-ffb3a3c63e9d",
   "metadata": {},
   "outputs": [],
   "source": [
    "p_cancer_given_coffee_drinker = (p_coffee_drinker_given_cancer*p_cancer)/p_coffee_drinker"
   ]
  },
  {
   "cell_type": "code",
   "execution_count": 14,
   "id": "ffdae6d3-2da8-4823-9a63-e51ae095fba2",
   "metadata": {},
   "outputs": [
    {
     "name": "stdout",
     "output_type": "stream",
     "text": [
      "0.006538461538461539\n"
     ]
    }
   ],
   "source": [
    "print(p_cancer_given_coffee_drinker)"
   ]
  },
  {
   "cell_type": "code",
   "execution_count": 15,
   "id": "47d8910c-6386-41ad-b396-a75d657afc5c",
   "metadata": {},
   "outputs": [
    {
     "name": "stdout",
     "output_type": "stream",
     "text": [
      "0.7748409780000002\n"
     ]
    }
   ],
   "source": [
    "# create a beta distribution\n",
    "# beta is the number of failures\n",
    "# alpha is the number of successes\n",
    "# the beta distribution is a distribution of probabilities of probabilities given alpha successes out of (alpha+beta) attempts\n",
    "\n",
    "from scipy.stats import beta\n",
    "\n",
    "a = 8 # successes\n",
    "b = 2 # failures :(\n",
    "\n",
    "p = beta.cdf(.90, a, b) # find the chance of having 90% success or less based on having 80% success\n",
    "\n",
    "print(p)\n"
   ]
  },
  {
   "cell_type": "code",
   "execution_count": 16,
   "id": "e1650cf5-00f3-4515-8f7d-b28bf5f1d157",
   "metadata": {},
   "outputs": [
    {
     "data": {
      "text/plain": [
       "0.22515902199999982"
      ]
     },
     "execution_count": 16,
     "metadata": {},
     "output_type": "execute_result"
    }
   ],
   "source": [
    "# we can also see what the probability of success greater than 90% would be \n",
    "\n",
    "1-p"
   ]
  },
  {
   "cell_type": "code",
   "execution_count": 17,
   "id": "d64413ff-d1bd-4ad6-a381-4c68f114458a",
   "metadata": {},
   "outputs": [
    {
     "name": "stdout",
     "output_type": "stream",
     "text": [
      "0.33863336199999994\n"
     ]
    }
   ],
   "source": [
    "# what if we want to find the area between 80 and 90%?\n",
    "\n",
    "p2 = p - beta.cdf(.80, a, b)\n",
    "\n",
    "print(p2)"
   ]
  },
  {
   "cell_type": "markdown",
   "id": "ac93bfc2-5b24-453a-b2f2-ad466b48f249",
   "metadata": {},
   "source": [
    "## Exercises\n",
    "\n",
    "1. There is a 30% chance of rain today and a 40% chance your umbrella order will arrive on time. You are eager to walk in the rain today and cannot do so without either!\n",
    "\n",
    "What is the probability is will rain AND your umbrella will arrive?\n"
   ]
  },
  {
   "cell_type": "code",
   "execution_count": 18,
   "id": "a5443fa4-ea7e-44fe-b341-12f54db4fb1a",
   "metadata": {},
   "outputs": [
    {
     "name": "stdout",
     "output_type": "stream",
     "text": [
      "0.12\n"
     ]
    }
   ],
   "source": [
    "# this is a joint probability question\n",
    "\n",
    "rain = .3\n",
    "umbrella = .4\n",
    "\n",
    "rain_and_umbrella = rain*umbrella\n",
    "\n",
    "print(rain_and_umbrella)"
   ]
  },
  {
   "cell_type": "markdown",
   "id": "9c46b1d5-78e2-45b0-9341-78d6c5c1118a",
   "metadata": {},
   "source": [
    "2. There is a 30% chance of rain today, and a 40% chance your umbrella order will arrive on time. \n",
    "\n",
    "You will be able to run errands only if it does not rain or your umbrella arrives.\n",
    "\n",
    "What is the probability it will not rain OR your umreblla arrives?"
   ]
  },
  {
   "cell_type": "code",
   "execution_count": 19,
   "id": "344ee78c-3292-461c-b0ee-3795582d7e43",
   "metadata": {},
   "outputs": [
    {
     "name": "stdout",
     "output_type": "stream",
     "text": [
      "0.7\n"
     ]
    }
   ],
   "source": [
    "# here, we have a good example of a union probability (and also of why I hate word problems)\n",
    "\n",
    "rain_or_umbrella = rain + umbrella\n",
    "\n",
    "print(rain_or_umbrella)"
   ]
  },
  {
   "cell_type": "markdown",
   "id": "85051c9d-32f0-43a8-9070-a86bf9cadaa0",
   "metadata": {},
   "source": [
    "3. There is a 30% chance of rain today, and a 40% chance your umbrella order will arrive on time.\n",
    "\n",
    "However, you found out if it rains there is only a 20% chance your umbrella will arrive on time.\n",
    "\n",
    "What is the probability it will rain AND your umbrella will arrive on time?\n"
   ]
  },
  {
   "cell_type": "code",
   "execution_count": 20,
   "id": "fa602a33-0f93-4c1d-8b70-c633310cef41",
   "metadata": {},
   "outputs": [
    {
     "name": "stdout",
     "output_type": "stream",
     "text": [
      "0.06\n"
     ]
    }
   ],
   "source": [
    "# we need to define a new object for the chance our umbrella arrives on time\n",
    "\n",
    "umbrella_on_time = .2\n",
    "\n",
    "rain_and_umbrella_on_time = (rain*umbrella_on_time)\n",
    "\n",
    "print(rain_and_umbrella_on_time)"
   ]
  },
  {
   "cell_type": "markdown",
   "id": "45fa32b9-95f7-4765-9358-0018cdae9086",
   "metadata": {},
   "source": [
    "4. You have 137 passengers booked on a flight from Las Vegas to Dallas. However it is Las Vegas on a Sunday morning and you estimate each passenger is 40% likely not to show up.\n",
    "\n",
    "You are trying to figure out how many seats to overbook so the plane does not fly empty.\n",
    "\n",
    "How likely is it at least 50 passengers will not show up?"
   ]
  },
  {
   "cell_type": "code",
   "execution_count": 21,
   "id": "9279704e-390b-4e2d-8948-b03991f6c980",
   "metadata": {},
   "outputs": [
    {
     "name": "stdout",
     "output_type": "stream",
     "text": [
      "1.644191176294851\n"
     ]
    }
   ],
   "source": [
    "# we want to treat each passenger as a coin flip: either you show or you don't, so this is a dinomial question\n",
    "\n",
    "from scipy.stats import binom\n",
    "\n",
    "passengers = 137\n",
    "\n",
    "no_show = .4\n",
    "\n",
    "no_pass = 50\n",
    "\n",
    "for k in range(50, 138):\n",
    "    prob_of_50_no_shows += binom.pmf(k, passengers, no_show)\n",
    "\n",
    "print(prob_of_50_no_shows)\n",
    "\n"
   ]
  },
  {
   "cell_type": "markdown",
   "id": "e474c8e9-f176-4382-8b34-b8e26ed2c4a4",
   "metadata": {},
   "source": [
    "5. You flipped a coin 19 times and got heads 15 times and tails 4 times. \n",
    "\n",
    "Do you think this coin has any good probability of being fair? Why or why not?\n"
   ]
  },
  {
   "cell_type": "code",
   "execution_count": 22,
   "id": "d41679f3-1fcd-48a4-9f7c-6cbd7124e0e6",
   "metadata": {},
   "outputs": [
    {
     "name": "stdout",
     "output_type": "stream",
     "text": [
      "0.0037689208984375\n"
     ]
    }
   ],
   "source": [
    "# this is a beta distribution question, so we'll use the same set up as the in-text exercise above\n",
    "\n",
    "from scipy.stats import beta\n",
    "\n",
    "a = 15 # heads (i.e., successes)\n",
    "b = 4 # tails (i.e., failures) \n",
    "\n",
    "p = beta.cdf(.50, a, b) # find the chance of having 50% success, i.e., of beeing fair\n",
    "\n",
    "print(p)\n",
    "\n",
    "\n",
    "# mmmm, seems like this isn't a very fair coin, we can see that there is a 0.03% chance that we would have a 50% heads rate or less"
   ]
  },
  {
   "cell_type": "code",
   "execution_count": 23,
   "id": "ffe19ca8-228c-4ac6-9dad-2d936aee093e",
   "metadata": {},
   "outputs": [
    {
     "data": {
      "text/plain": [
       "0.9962310791015625"
      ]
     },
     "execution_count": 23,
     "metadata": {},
     "output_type": "execute_result"
    }
   ],
   "source": [
    "1-p\n",
    "\n",
    "# here, we see that out of a 15/19 heads rate, there is a 99.6% success rate of 50% or greater, which is pretty weird if the coin is fair."
   ]
  },
  {
   "cell_type": "code",
   "execution_count": null,
   "id": "7eae3bf1-18e5-4066-b01f-ea74bbe8f889",
   "metadata": {},
   "outputs": [],
   "source": []
  }
 ],
 "metadata": {
  "kernelspec": {
   "display_name": "Python 3 (ipykernel)",
   "language": "python",
   "name": "python3"
  },
  "language_info": {
   "codemirror_mode": {
    "name": "ipython",
    "version": 3
   },
   "file_extension": ".py",
   "mimetype": "text/x-python",
   "name": "python",
   "nbconvert_exporter": "python",
   "pygments_lexer": "ipython3",
   "version": "3.9.15"
  }
 },
 "nbformat": 4,
 "nbformat_minor": 5
}
