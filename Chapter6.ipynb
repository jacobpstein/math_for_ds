{
 "cells": [
  {
   "cell_type": "markdown",
   "id": "ce5f9a3b-96b0-455b-8f61-53d444a41dda",
   "metadata": {},
   "source": [
    "# Worked Examples and Exercises from Chapter 6 of *Essential Math for Data Science*\n",
    "\n",
    "## Logistic Regression\n",
    "\n",
    "People say it's AI when you're pitching to clients, ML when you're hiring, and logistic regression when you're actually doing it."
   ]
  },
  {
   "cell_type": "markdown",
   "id": "c074f43d-15b5-48d6-b5ba-81a3d1f4419b",
   "metadata": {},
   "source": [
    "1. Perform a logistic regression on the data from [https://bit.ly/3imidqa](https://bit.ly/3imidqa) using three-fold cross validation and accuracy as your metric.\n"
   ]
  },
  {
   "cell_type": "code",
   "execution_count": 1,
   "id": "cfaf3553-93f3-42c9-b1a6-ce762be61e17",
   "metadata": {},
   "outputs": [
    {
     "data": {
      "text/html": [
       "<div>\n",
       "<style scoped>\n",
       "    .dataframe tbody tr th:only-of-type {\n",
       "        vertical-align: middle;\n",
       "    }\n",
       "\n",
       "    .dataframe tbody tr th {\n",
       "        vertical-align: top;\n",
       "    }\n",
       "\n",
       "    .dataframe thead th {\n",
       "        text-align: right;\n",
       "    }\n",
       "</style>\n",
       "<table border=\"1\" class=\"dataframe\">\n",
       "  <thead>\n",
       "    <tr style=\"text-align: right;\">\n",
       "      <th></th>\n",
       "      <th>RED</th>\n",
       "      <th>GREEN</th>\n",
       "      <th>BLUE</th>\n",
       "      <th>LIGHT_OR_DARK_FONT_IND</th>\n",
       "    </tr>\n",
       "  </thead>\n",
       "  <tbody>\n",
       "    <tr>\n",
       "      <th>0</th>\n",
       "      <td>0</td>\n",
       "      <td>0</td>\n",
       "      <td>0</td>\n",
       "      <td>0</td>\n",
       "    </tr>\n",
       "    <tr>\n",
       "      <th>1</th>\n",
       "      <td>0</td>\n",
       "      <td>0</td>\n",
       "      <td>128</td>\n",
       "      <td>0</td>\n",
       "    </tr>\n",
       "    <tr>\n",
       "      <th>2</th>\n",
       "      <td>0</td>\n",
       "      <td>0</td>\n",
       "      <td>139</td>\n",
       "      <td>0</td>\n",
       "    </tr>\n",
       "    <tr>\n",
       "      <th>3</th>\n",
       "      <td>0</td>\n",
       "      <td>0</td>\n",
       "      <td>205</td>\n",
       "      <td>0</td>\n",
       "    </tr>\n",
       "    <tr>\n",
       "      <th>4</th>\n",
       "      <td>0</td>\n",
       "      <td>0</td>\n",
       "      <td>238</td>\n",
       "      <td>0</td>\n",
       "    </tr>\n",
       "  </tbody>\n",
       "</table>\n",
       "</div>"
      ],
      "text/plain": [
       "   RED  GREEN  BLUE  LIGHT_OR_DARK_FONT_IND\n",
       "0    0      0     0                       0\n",
       "1    0      0   128                       0\n",
       "2    0      0   139                       0\n",
       "3    0      0   205                       0\n",
       "4    0      0   238                       0"
      ]
     },
     "execution_count": 1,
     "metadata": {},
     "output_type": "execute_result"
    }
   ],
   "source": [
    "# load libraries\n",
    "import pandas as pd\n",
    "from sklearn.linear_model import LogisticRegression\n",
    "from sklearn.model_selection import KFold, cross_val_score\n",
    "\n",
    "# import our data\n",
    "df = pd.read_csv(\"https://raw.githubusercontent.com/thomasnield/machine-learning-demo-data/master/classification/light_dark_font_training_set.csv\")\n",
    "\n",
    "# let's take a look\n",
    "\n",
    "df.head()"
   ]
  },
  {
   "cell_type": "code",
   "execution_count": 9,
   "id": "55153456-02f4-4161-a6e3-ba8af4a7a4d2",
   "metadata": {},
   "outputs": [
    {
     "name": "stdout",
     "output_type": "stream",
     "text": [
      "Accuracy Mean: 1.000 (stdev=0.000)\n"
     ]
    }
   ],
   "source": [
    "\n",
    "# create some model feature objects\n",
    "\n",
    "X = df.values[:, :-1]\n",
    "Y = df.values[:, -1]\n",
    "\n",
    "# Cross-validation!\n",
    "kfold = KFold(n_splits = 3, random_state = 5112023, shuffle = True)\n",
    "\n",
    "# fit the model\n",
    "model = LogisticRegression(penalty = None)\n",
    "\n",
    "results = cross_val_score(model, X, Y, cv = kfold)\n",
    "\n",
    "print(\"Accuracy Mean: %.3f (stdev=%.3f)\" % (results.mean(), results.std()))\n",
    "\n",
    "                 \n",
    "                "
   ]
  },
  {
   "cell_type": "markdown",
   "id": "4ff809b5-e891-4f6a-a17f-405a15b456ca",
   "metadata": {},
   "source": [
    "2. Produce a confusion matrix comparing the predictions and the actual data"
   ]
  },
  {
   "cell_type": "code",
   "execution_count": 7,
   "id": "a9306d0b-29a7-4405-8526-89437aafc18a",
   "metadata": {},
   "outputs": [
    {
     "name": "stdout",
     "output_type": "stream",
     "text": [
      "[[104   0]\n",
      " [  0 165]]\n"
     ]
    }
   ],
   "source": [
    "# split our prior data in train-test\n",
    "from sklearn.metrics import confusion_matrix\n",
    "from sklearn.model_selection import train_test_split\n",
    "\n",
    "X_train, X_test, Y_train, Y_test = train_test_split(X, Y, test_size = 0.2, random_state = 5112023)\n",
    "\n",
    "# fit the model\n",
    "model.fit(X_train, Y_train)\n",
    "\n",
    "# create a prediction object\n",
    "prediction = model.predict(X_test)\n",
    "\n",
    "# create a simple confusion matrix\n",
    "matrix = confusion_matrix(y_true = Y_test, y_pred = prediction)\n",
    "print(matrix)\n"
   ]
  },
  {
   "cell_type": "markdown",
   "id": "6844d31c-2bc0-47d3-a9e6-95753e7435d2",
   "metadata": {},
   "source": [
    "3. pick a background color and see our model chooses light (1) or dark (0)\n"
   ]
  },
  {
   "cell_type": "code",
   "execution_count": 37,
   "id": "27349225-853b-42b4-9d92-b363ff9708dc",
   "metadata": {},
   "outputs": [
    {
     "name": "stdout",
     "output_type": "stream",
     "text": [
      "0       0\n",
      "1       0\n",
      "2       0\n",
      "3       0\n",
      "4       0\n",
      "       ..\n",
      "1340    1\n",
      "1341    0\n",
      "1342    0\n",
      "1343    1\n",
      "1344    0\n",
      "Name: LIGHT_OR_DARK_FONT_IND, Length: 1345, dtype: int64\n"
     ]
    }
   ],
   "source": [
    "# create independent variable columns\n",
    "inputs = df.iloc[:, :-1]\n",
    "\n",
    "output = df.iloc[:, -1]\n",
    "\n",
    "# build a model object\n",
    "fit = LogisticRegression(penalty = None).fit(inputs, output)"
   ]
  },
  {
   "cell_type": "code",
   "execution_count": 41,
   "id": "505f56b4-8122-44d0-9664-7c7da1513b73",
   "metadata": {},
   "outputs": [
    {
     "name": "stdout",
     "output_type": "stream",
     "text": [
      "This color is dark: [[1. 0.]]\n"
     ]
    }
   ],
   "source": [
    "# create a test of new RGB codes\n",
    "\n",
    "def predict_light_dark(RED, BLUE, GREEN):\n",
    "    prediction = fit.predict([[RED, BLUE, GREEN]])\n",
    "    probabilities = fit.predict_proba([[RED, BLUE, GREEN]])\n",
    "    if prediction == [[1]]:\n",
    "        return \"This color is light: {0}\".format(probabilities)\n",
    "    else:\n",
    "        return \"This color is dark: {0}\".format(probabilities)\n",
    "    \n",
    "# test the function on black\n",
    "print(predict_light_dark(int(3), int(3), int(3)))\n",
    "\n"
   ]
  },
  {
   "cell_type": "code",
   "execution_count": 43,
   "id": "83c9ecda-1261-44d7-a8fb-2ca83bf65249",
   "metadata": {},
   "outputs": [
    {
     "name": "stdout",
     "output_type": "stream",
     "text": [
      "This color is light: [[0. 1.]]\n"
     ]
    }
   ],
   "source": [
    "# on yellow\n",
    "print(predict_light_dark(int(223), int(221), int(3)))\n"
   ]
  },
  {
   "cell_type": "code",
   "execution_count": 44,
   "id": "534a49f2-955f-4c86-97dd-d6894841c41c",
   "metadata": {},
   "outputs": [],
   "source": [
    "# logistic regression actually seems to be really good at predicting light and dark!"
   ]
  },
  {
   "cell_type": "code",
   "execution_count": null,
   "id": "9e84a0e3-6dca-451d-9252-41054fceaffe",
   "metadata": {},
   "outputs": [],
   "source": []
  },
  {
   "cell_type": "code",
   "execution_count": null,
   "id": "0f029982-e3c2-4b2b-9f5d-357f5af13a03",
   "metadata": {},
   "outputs": [],
   "source": []
  }
 ],
 "metadata": {
  "kernelspec": {
   "display_name": "Python 3 (ipykernel)",
   "language": "python",
   "name": "python3"
  },
  "language_info": {
   "codemirror_mode": {
    "name": "ipython",
    "version": 3
   },
   "file_extension": ".py",
   "mimetype": "text/x-python",
   "name": "python",
   "nbconvert_exporter": "python",
   "pygments_lexer": "ipython3",
   "version": "3.9.16"
  }
 },
 "nbformat": 4,
 "nbformat_minor": 5
}
