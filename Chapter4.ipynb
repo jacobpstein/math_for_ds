{
 "cells": [
  {
   "cell_type": "markdown",
   "id": "691c191f-05bf-499c-8947-212778573af9",
   "metadata": {},
   "source": [
    "# Worked Examples and Exercises from Chapter 3 of *Essential Math for Data Science*\n",
    "\n",
    "## Linear Algebra...vectors!"
   ]
  },
  {
   "cell_type": "markdown",
   "id": "a6f29068-3784-4201-ae8c-db7b6bf3211a",
   "metadata": {},
   "source": [
    "1. Vector $\\overrightarrow{v}$ has a value of [1, 2] but then a transformation happens. $\\hat{i}$ lands at [2, 0] and $\\hat{j}$ lands at [0, 1.5]. Where does $\\overrightarrow{v}$ land? "
   ]
  },
  {
   "cell_type": "code",
   "execution_count": 15,
   "id": "c53de551-efaf-4377-9a88-ceeb2c22ea96",
   "metadata": {},
   "outputs": [],
   "source": [
    "# we are going to implement matrix vector multiplication using NumPy\n",
    "\n",
    "from numpy import array\n",
    "\n",
    "# i hat and j hat are our basis arrays, which we define using the array function\n",
    "\n",
    "basis = array(\n",
    "    [[2, 0]\n",
    "     , [0, 1.5]]\n",
    ")"
   ]
  },
  {
   "cell_type": "code",
   "execution_count": 16,
   "id": "468e41ab-da22-49f1-9a1e-5480fbc4bfe5",
   "metadata": {},
   "outputs": [],
   "source": [
    "# now we want to create our v vector\n",
    "\n",
    "v = array([1, 2])"
   ]
  },
  {
   "cell_type": "code",
   "execution_count": 17,
   "id": "64dd3230-d434-4f23-8abd-34f73660e6b3",
   "metadata": {},
   "outputs": [
    {
     "name": "stdout",
     "output_type": "stream",
     "text": [
      "[2. 3.]\n"
     ]
    }
   ],
   "source": [
    "# now simply transform with a the dot function\n",
    "\n",
    "vector = basis.dot(v)\n",
    "\n",
    "print(vector)\n"
   ]
  },
  {
   "cell_type": "markdown",
   "id": "c425163f-f09a-424c-b88f-40969f52d6c6",
   "metadata": {},
   "source": [
    "2. Vector $\\overrightarrow{v}$ has a value of [1, 2] but then a transformation happens. $\\hat{i}$ lands at [-2, 1] and $\\hat{j}$ lands at [1, -2]. Where does $\\overrightarrow{v}$ land? "
   ]
  },
  {
   "cell_type": "code",
   "execution_count": 18,
   "id": "546bc749-3211-4517-806f-97fbadd1c626",
   "metadata": {},
   "outputs": [
    {
     "name": "stdout",
     "output_type": "stream",
     "text": [
      "[ 0 -3]\n"
     ]
    }
   ],
   "source": [
    "# let's follow the same logic as before\n",
    "\n",
    "\n",
    "basis = array(\n",
    "    [[-2, 1]\n",
    "     , [1, -2]]\n",
    ")\n",
    "\n",
    "v = array([1, 2])\n",
    "\n",
    "vector = basis.dot(v)\n",
    "\n",
    "print(vector)"
   ]
  },
  {
   "cell_type": "markdown",
   "id": "ae0bfe33-e4b1-42d3-afe6-9987edd53e3a",
   "metadata": {},
   "source": [
    "3. A transformation lands $\\hat{i}$ at [1, 0] and $\\{j}$ at [2, 2]. What is the determinant of this transofmration?"
   ]
  },
  {
   "cell_type": "code",
   "execution_count": 19,
   "id": "7c2a399a-20e3-40c4-b5fd-57bdfda59695",
   "metadata": {},
   "outputs": [
    {
     "name": "stdout",
     "output_type": "stream",
     "text": [
      "2.0\n"
     ]
    }
   ],
   "source": [
    "from numpy.linalg import det\n",
    "\n",
    "i_hat = array([1, 0])\n",
    "j_hat = array([2, 2])\n",
    "\n",
    "basis = array([i_hat, j_hat]).transpose()\n",
    "\n",
    "determinant = det(basis)\n",
    "\n",
    "print(determinant)"
   ]
  },
  {
   "cell_type": "markdown",
   "id": "575b28b5-0d59-48aa-8904-0542fc00558f",
   "metadata": {},
   "source": [
    "4. Can two or more linear transformations be done in a single linear transformation?\n",
    "\n",
    "Yes! You can consolidate two transformations into one transportation by mupltipling and adding each row from one matrix to each respective column of the second matrix in an over and down, over and down pattern. "
   ]
  },
  {
   "cell_type": "markdown",
   "id": "02f9d9f0-02b9-4363-8a2c-7fe4b99df956",
   "metadata": {},
   "source": [
    "5. Solve the system of equations for ${x}$, ${y}$, and ${z}$:\n",
    "\n",
    "3${x}$ + 1${y}$ + 0${z}$ = 54\n",
    "\n",
    "2${x}$ + 4${y}$ + 1${z}$ = 12\n",
    "\n",
    "3${x}$ + 1${y}$ + 8${z}$ = 6\n",
    "\n"
   ]
  },
  {
   "cell_type": "code",
   "execution_count": 20,
   "id": "1eb521a6-8d0c-4ed8-be5d-b4000d03832a",
   "metadata": {},
   "outputs": [
    {
     "name": "stdout",
     "output_type": "stream",
     "text": [
      "[19.8 -5.4 -6. ]\n"
     ]
    }
   ],
   "source": [
    "from numpy.linalg import inv\n",
    "\n",
    "A = array([\n",
    "    [3, 1, 0]\n",
    "    , [2, 4, 1]\n",
    "    , [3, 1, 8]\n",
    "])\n",
    "\n",
    "B = array([\n",
    "    54\n",
    "    , 12\n",
    "    , 6\n",
    "])\n",
    "\n",
    "X = inv(A).dot(B)\n",
    "\n",
    "print(X)"
   ]
  },
  {
   "cell_type": "markdown",
   "id": "a9581267-a897-46ad-949b-0ff751e58f14",
   "metadata": {},
   "source": [
    "6. Is the vector \n",
    "$$\\begin{bmatrix}2 & 1\\\\\n",
    "6 & 3\\\\\n",
    "\\end{bmatrix}$$\n",
    "\n",
    "linearly dependent?\n",
    "\n",
    "It's worth recalling that when two vectors in two different directions, they are linearly independent and have unlimited span. Two vectors are linearly dependent if and only if they are collinear, i.e., one is a scalar multiple of the other. In the case here, we have linear dependence given the relationship between the two vectors with a determinant that is equal to zero. We can also check this in python.\n"
   ]
  },
  {
   "cell_type": "code",
   "execution_count": 21,
   "id": "34a801f1-1e69-4f8c-9cfc-4798e33de231",
   "metadata": {},
   "outputs": [
    {
     "name": "stdout",
     "output_type": "stream",
     "text": [
      "0.0\n"
     ]
    }
   ],
   "source": [
    "i_hat = array([2, 6])\n",
    "j_hat = array([1, 3])\n",
    "\n",
    "basis = array([i_hat, j_hat]).transpose()\n",
    "              \n",
    "determinant = det(basis)\n",
    "\n",
    "print(determinant)"
   ]
  },
  {
   "cell_type": "code",
   "execution_count": null,
   "id": "84b052b8-a7b5-4fab-944d-7fcaf91e5fc4",
   "metadata": {},
   "outputs": [],
   "source": []
  }
 ],
 "metadata": {
  "kernelspec": {
   "display_name": "Python 3 (ipykernel)",
   "language": "python",
   "name": "python3"
  },
  "language_info": {
   "codemirror_mode": {
    "name": "ipython",
    "version": 3
   },
   "file_extension": ".py",
   "mimetype": "text/x-python",
   "name": "python",
   "nbconvert_exporter": "python",
   "pygments_lexer": "ipython3",
   "version": "3.9.16"
  }
 },
 "nbformat": 4,
 "nbformat_minor": 5
}
